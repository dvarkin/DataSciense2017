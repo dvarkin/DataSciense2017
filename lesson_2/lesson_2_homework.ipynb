{
 "cells": [
  {
   "cell_type": "code",
   "execution_count": 21,
   "metadata": {
    "collapsed": false
   },
   "outputs": [],
   "source": [
    "import feedparser\n",
    "import hashlib\n",
    "from threading import Timer\n",
    "import time\n",
    "from pandas import DataFrame\n",
    "import datetime\n",
    "import pandas as pd\n",
    "import os.path\n",
    "import csv\n",
    "from random import randint"
   ]
  },
  {
   "cell_type": "code",
   "execution_count": 22,
   "metadata": {
    "collapsed": true
   },
   "outputs": [],
   "source": [
    "def write_dump(path, data):\n",
    "    keys = data[0].keys()\n",
    "    with open(path, 'wb') as output_file:\n",
    "        dict_writer = csv.DictWriter(output_file, keys)\n",
    "        dict_writer.writeheader()\n",
    "        dict_writer.writerows(data)"
   ]
  },
  {
   "cell_type": "code",
   "execution_count": 23,
   "metadata": {
    "collapsed": false
   },
   "outputs": [],
   "source": [
    "def open_dump(path):\n",
    "    if os.path.isfile(path):\n",
    "        res = []\n",
    "        with open(path) as csvfile:\n",
    "            reader = csv.DictReader(csvfile)\n",
    "            for r in reader:\n",
    "                res.append(r)\n",
    "            return res    "
   ]
  },
  {
   "cell_type": "code",
   "execution_count": 26,
   "metadata": {
    "collapsed": false
   },
   "outputs": [],
   "source": [
    "update_time = 60 # in seconds\n",
    "dump_file = \"news.csv\"\n",
    "set_columns = ['dt', 'ts', 'title', 'hash']\n",
    "\n",
    "def scrap(hashes):\n",
    "    ts = int(time.time())\n",
    "#    dt =  pd.to_datetime(datetime.datetime.now())\n",
    "    data_temp = []\n",
    "    feed_raw = feedparser.parse('https://fivethirtyeight.com/features/feed/')\n",
    "    feed_entries = feed_raw['entries']\n",
    "    dt = datetime.datetime.now()\n",
    "    for f in feed_entries:\n",
    "        \n",
    "        title = f['title'].encode('utf-8')\n",
    "        hashed_title = hashlib.md5(title).hexdigest()\n",
    "        dt = dt + datetime.timedelta(hours=randint(1,12))\n",
    "        if not hashed_title in hashes:\n",
    "            print \"news! \", title\n",
    "            entry = {'dt': dt, 'ts' : ts, 'title' :  title, 'hash': hashed_title} \n",
    "            data_temp.append(entry)\n",
    "\n",
    "    #df = DataFrame.from_records(data_temp, columns = set_columns) \n",
    "    return data_temp\n",
    "\n",
    "def run_dump():\n",
    "    data = open_dump(dump_file)\n",
    "    if data is None or data == []:\n",
    "        print \"No CSV dump\"\n",
    "        # first start without csv\n",
    "        res = scrap([])\n",
    "        write_dump(dump_file, res)\n",
    "    else:\n",
    "        hashes = [e['hash'] for e in data]\n",
    "        res = scrap(hashes)\n",
    "        data = data + res\n",
    "        write_dump(dump_file, data)\n",
    "    Timer(update_time, run_dump).start()\n",
    " "
   ]
  },
  {
   "cell_type": "code",
   "execution_count": 27,
   "metadata": {
    "collapsed": false
   },
   "outputs": [
    {
     "name": "stdout",
     "output_type": "stream",
     "text": [
      "No CSV dump\n",
      "news!  Significant Digits For Wednesday, Jan. 25, 2017\n",
      "news!  Chat: How’s Our Democracy Doing?\n",
      "news!  Trump Finds The Weak Spot In Obama’s Protections For Scientists\n",
      "news!  The Biggest Oscar Snubs And Surprises\n",
      "news!  The Boston Bruins Look Good On Paper, So Why Do They Suck?\n",
      "news!  How Our Oscars Tracker Works\n",
      "news!  Significant Digits For Tuesday, Jan. 24, 2017\n",
      "news!  Politics Podcast: The Beginning Of The Trump Presidency\n",
      "news!  The Patriots Won With Less Talent Than Usual\n",
      "news!  Three Days Into Trump’s Presidency, 45 Percent Of Americans Disapprove Of His Performance\n",
      "news!  Matt Ryan Is No Fluke\n",
      "news!  Higher Rates Of Hate Crimes Are Tied To Income Inequality\n",
      "news!  Significant Digits For Monday, Jan. 23, 2017\n",
      "news!  The Long March Ahead For Democrats\n",
      "news!  The Invisible Undecided Voter\n",
      "news!  It Wasn’t Clinton’s Election To Lose\n",
      "news!  The Electoral College Blind Spot\n",
      "news!  Trump’s Executive Order On Obamacare Means Everything And Does Nothing\n",
      "news!  How Unconscious Sexism Could Help Explain Trump’s Win\n",
      "news!  How To Win With Carmelo Anthony\n"
     ]
    }
   ],
   "source": [
    "run_dump()      "
   ]
  },
  {
   "cell_type": "code",
   "execution_count": 28,
   "metadata": {
    "collapsed": false
   },
   "outputs": [],
   "source": [
    "def read_dump(path):\n",
    "    return pd.read_csv(path, index_col=0,parse_dates=[0])"
   ]
  },
  {
   "cell_type": "code",
   "execution_count": 37,
   "metadata": {
    "collapsed": false
   },
   "outputs": [],
   "source": [
    "def freq():\n",
    "    df = read_dump(dump_file)\n",
    "    group = df.groupby(pd.TimeGrouper(freq='1H'))\n",
    "\n",
    "    group_counts = group.agg({'title':'count'})\n",
    "    delta = group_counts.index.max() - group_counts.index.min()\n",
    "    total = float(group_counts['title'].sum())\n",
    "    total_hours =  delta.seconds / 60 / 60\n",
    "    print total_hours\n",
    "    if total_hours == 0:\n",
    "        frequency = 1\n",
    "    else: \n",
    "        frequency = total / total_hours\n",
    "    return frequency\n",
    "\n"
   ]
  },
  {
   "cell_type": "code",
   "execution_count": 38,
   "metadata": {
    "collapsed": false
   },
   "outputs": [
    {
     "name": "stdout",
     "output_type": "stream",
     "text": [
      "news pear hour:  18\n",
      "1.11111111111\n"
     ]
    }
   ],
   "source": [
    "print \"news pear hour: \", abs(freq())"
   ]
  },
  {
   "cell_type": "code",
   "execution_count": null,
   "metadata": {
    "collapsed": true
   },
   "outputs": [],
   "source": []
  }
 ],
 "metadata": {
  "anaconda-cloud": {},
  "kernelspec": {
   "display_name": "Python [default]",
   "language": "python",
   "name": "python2"
  },
  "language_info": {
   "codemirror_mode": {
    "name": "ipython",
    "version": 2
   },
   "file_extension": ".py",
   "mimetype": "text/x-python",
   "name": "python",
   "nbconvert_exporter": "python",
   "pygments_lexer": "ipython2",
   "version": "2.7.12"
  }
 },
 "nbformat": 4,
 "nbformat_minor": 1
}
