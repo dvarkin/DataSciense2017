{
 "cells": [
  {
   "cell_type": "code",
   "execution_count": 391,
   "metadata": {
    "collapsed": false
   },
   "outputs": [
    {
     "ename": "SyntaxError",
     "evalue": "invalid syntax (<ipython-input-391-7d681280a00c>, line 26)",
     "output_type": "error",
     "traceback": [
      "\u001b[0;36m  File \u001b[0;32m\"<ipython-input-391-7d681280a00c>\"\u001b[0;36m, line \u001b[0;32m26\u001b[0m\n\u001b[0;31m    dt = dt + datetime.timedelta(minutes=30) %% just for test !!!!\u001b[0m\n\u001b[0m                                              ^\u001b[0m\n\u001b[0;31mSyntaxError\u001b[0m\u001b[0;31m:\u001b[0m invalid syntax\n"
     ]
    }
   ],
   "source": [
    "import feedparser\n",
    "import hashlib\n",
    "from threading import Timer\n",
    "import time\n",
    "from pandas import DataFrame\n",
    "import datetime\n",
    "import pandas as pd\n",
    "import os.path\n",
    "import csv\n",
    "\n",
    "dump_file = \"news.csv\"\n",
    "set_columns = ['dt', 'ts', 'title', 'hash']\n",
    "\n",
    "def scrap(hashes):\n",
    "    ts = int(time.time())\n",
    "    dt =  pd.to_datetime(datetime.datetime.now())\n",
    "    data_temp = []\n",
    "    feed_raw = feedparser.parse('https://fivethirtyeight.com/features/feed/')\n",
    "    feed_entries = feed_raw['entries']\n",
    "\n",
    "    for f in feed_entries:\n",
    "        title = f['title'].encode('utf-8')\n",
    "        hashed_title = hashlib.md5(title).hexdigest()\n",
    "\n",
    "        if not hashed_title in hashes:\n",
    "            dt = dt + datetime.timedelta(minutes=30) %% just for test !!!!\n",
    "            entry = {'dt': dt, 'ts' : ts, 'title' :  title, 'hash': hashed_title} \n",
    "            data_temp.append(entry)\n",
    "\n",
    "    #df = DataFrame.from_records(data_temp, columns = set_columns) \n",
    "    return data_temp\n",
    "\n",
    "def run_dump():\n",
    "    data = open_dump(dump_file)\n",
    "    if data is None or data == []:\n",
    "        print \"No CSV dump\"\n",
    "        # first start without csv\n",
    "        res = scrap([])\n",
    "        print res\n",
    "        write_dump(dump_file, res)\n",
    "        #res.to_csv(path_or_buf=dump_file, columns = set_columns)\n",
    "    else:\n",
    "        hashes = [e['hash'] for e in data]\n",
    "        res = scrap(hashes)\n",
    "        data = data + res\n",
    "        write_dump(dump_file, data)\n",
    "        #data.to_csv(path_or_buf=dump_file, columns = set_columns)\n",
    "    Timer(10, run_dump).start()\n",
    " "
   ]
  },
  {
   "cell_type": "code",
   "execution_count": 371,
   "metadata": {
    "collapsed": false
   },
   "outputs": [
    {
     "name": "stdout",
     "output_type": "stream",
     "text": [
      "No CSV dump\n",
      "[{'dt': Timestamp('2017-01-24 17:09:16.671025'), 'hash': '00c94e046279871b639454bb0e3ad6ba', 'ts': 1485268756, 'title': 'Significant Digits For Tuesday, Jan. 24, 2017'}, {'dt': Timestamp('2017-01-24 17:39:16.671025'), 'hash': 'c4acd0e2e3f9c6c6e15c80c09d7628ab', 'ts': 1485268756, 'title': 'Politics Podcast: The Beginning Of The Trump Presidency'}, {'dt': Timestamp('2017-01-24 18:09:16.671025'), 'hash': '3273fcea4803b20e530c20ed63999281', 'ts': 1485268756, 'title': 'The Patriots Won With Less Talent Than Usual'}, {'dt': Timestamp('2017-01-24 18:39:16.671025'), 'hash': '0558edd81a386947ad8245232c391a0b', 'ts': 1485268756, 'title': 'Three Days Into Trump\\xe2\\x80\\x99s Presidency, 45 Percent Of Americans Disapprove Of His Performance'}, {'dt': Timestamp('2017-01-24 19:09:16.671025'), 'hash': 'df82e5f6dfad01597f344e6dffe9ca45', 'ts': 1485268756, 'title': 'Matt Ryan Is No Fluke'}, {'dt': Timestamp('2017-01-24 19:39:16.671025'), 'hash': 'bfc0485e93754c91cf5b47d7b483f5fa', 'ts': 1485268756, 'title': 'Higher Rates Of Hate Crimes Are Tied To Income Inequality'}, {'dt': Timestamp('2017-01-24 20:09:16.671025'), 'hash': 'd1f66bac612f26d88e9b2c17b000b42c', 'ts': 1485268756, 'title': 'Significant Digits For Monday, Jan. 23, 2017'}, {'dt': Timestamp('2017-01-24 20:39:16.671025'), 'hash': '5a40b9b44021d12a983f91a92fc91e9b', 'ts': 1485268756, 'title': 'The Long March Ahead For Democrats'}, {'dt': Timestamp('2017-01-24 21:09:16.671025'), 'hash': '7cbde96fd64695f9a2b7f93dcf4e469b', 'ts': 1485268756, 'title': 'The Invisible Undecided Voter'}, {'dt': Timestamp('2017-01-24 21:39:16.671025'), 'hash': '0d4263ffb58b286303cbbc5ecc7a9735', 'ts': 1485268756, 'title': 'It Wasn\\xe2\\x80\\x99t Clinton\\xe2\\x80\\x99s Election To Lose'}, {'dt': Timestamp('2017-01-24 22:09:16.671025'), 'hash': 'c374e130130c442c8f403f687b5e7978', 'ts': 1485268756, 'title': 'The Electoral College Blind Spot'}, {'dt': Timestamp('2017-01-24 22:39:16.671025'), 'hash': 'b219db19176cacf6f982500851dd4974', 'ts': 1485268756, 'title': 'Trump\\xe2\\x80\\x99s Executive Order On Obamacare Means Everything And Does Nothing'}, {'dt': Timestamp('2017-01-24 23:09:16.671025'), 'hash': 'de3c7871e66c42bb27fb5007bc9e269d', 'ts': 1485268756, 'title': 'How Unconscious Sexism Could Help Explain Trump\\xe2\\x80\\x99s Win'}, {'dt': Timestamp('2017-01-24 23:39:16.671025'), 'hash': '6c8cb5129f96b350f7cf2b6000fece3c', 'ts': 1485268756, 'title': 'How To Win With Carmelo Anthony'}, {'dt': Timestamp('2017-01-25 00:09:16.671025'), 'hash': 'fa8e8e4687ade010d5b37b3dad9037ff', 'ts': 1485268756, 'title': 'The Weaknesses Of The Four Remaining NFL Playoffs Teams'}, {'dt': Timestamp('2017-01-25 00:39:16.671025'), 'hash': '3f9eb5ea59c026d61d94031da07111ab', 'ts': 1485268756, 'title': 'Women Still Don\\xe2\\x80\\x99t Like Trump'}, {'dt': Timestamp('2017-01-25 01:09:16.671025'), 'hash': '86fefbeb0f457e5ac42ed7a014051354', 'ts': 1485268756, 'title': 'NFL Conference Championship Previews: Are Matt Ryan And Le\\xe2\\x80\\x99Veon Bell For Real?'}, {'dt': Timestamp('2017-01-25 01:39:16.671025'), 'hash': '9827d4067491c93279c835b6aa7484cc', 'ts': 1485268756, 'title': 'Who\\xe2\\x80\\x99s Likely To Win The Five Big European Soccer Leagues'}, {'dt': Timestamp('2017-01-25 02:09:16.671025'), 'hash': '25b50e61a3605063bcb1e48088460df4', 'ts': 1485268756, 'title': 'Can You Time The Stoplight Just Right?'}, {'dt': Timestamp('2017-01-25 02:39:16.671025'), 'hash': 'fe11c4209c2e050f91ecb781e4458eb7', 'ts': 1485268756, 'title': 'Significant Digits For Friday, Jan. 20, 2017'}]\n"
     ]
    }
   ],
   "source": [
    "run_dump()      "
   ]
  },
  {
   "cell_type": "code",
   "execution_count": 364,
   "metadata": {
    "collapsed": true
   },
   "outputs": [],
   "source": [
    "def write_dump(path, data):\n",
    "    keys = data[0].keys()\n",
    "    with open(path, 'wb') as output_file:\n",
    "        dict_writer = csv.DictWriter(output_file, keys)\n",
    "        dict_writer.writeheader()\n",
    "        dict_writer.writerows(data)"
   ]
  },
  {
   "cell_type": "code",
   "execution_count": 365,
   "metadata": {
    "collapsed": false
   },
   "outputs": [],
   "source": [
    "def open_dump(path):\n",
    "    if os.path.isfile(path):\n",
    "        res = []\n",
    "        with open(path) as csvfile:\n",
    "            reader = csv.DictReader(csvfile)\n",
    "            for r in reader:\n",
    "                res.append(r)\n",
    "            return res    "
   ]
  },
  {
   "cell_type": "code",
   "execution_count": 372,
   "metadata": {
    "collapsed": false
   },
   "outputs": [],
   "source": [
    "def read_dump(path):\n",
    "    return pd.read_csv(path, index_col=0,parse_dates=[0])"
   ]
  },
  {
   "cell_type": "code",
   "execution_count": 386,
   "metadata": {
    "collapsed": false
   },
   "outputs": [],
   "source": [
    "def freq():\n",
    "    df = read_dump(dump_file)\n",
    "    #print pd.to_datetime(data['dt'], format='%Y-%m-%d %H:%M:%S.%f')\n",
    "    group = data.groupby(pd.TimeGrouper(freq='1H'))\n",
    "\n",
    "    group_counts = group.agg({'title':'count'})\n",
    "\n",
    "    delta = group_counts.index.max() - group_counts.index.min()\n",
    "    total = float(group_counts['title'].sum())\n",
    "    total_hours =  delta.seconds * 60 * 60 \n",
    "    frequency = total / total_hours\n",
    "    return frequency\n",
    "\n"
   ]
  },
  {
   "cell_type": "code",
   "execution_count": 390,
   "metadata": {
    "collapsed": false
   },
   "outputs": [
    {
     "name": "stdout",
     "output_type": "stream",
     "text": [
      "news pear hour:  1.7146776406e-07\n"
     ]
    }
   ],
   "source": [
    "print \"news pear hour: \", freq()"
   ]
  }
 ],
 "metadata": {
  "anaconda-cloud": {},
  "kernelspec": {
   "display_name": "Python [default]",
   "language": "python",
   "name": "python2"
  },
  "language_info": {
   "codemirror_mode": {
    "name": "ipython",
    "version": 2
   },
   "file_extension": ".py",
   "mimetype": "text/x-python",
   "name": "python",
   "nbconvert_exporter": "python",
   "pygments_lexer": "ipython2",
   "version": "2.7.12"
  }
 },
 "nbformat": 4,
 "nbformat_minor": 1
}
