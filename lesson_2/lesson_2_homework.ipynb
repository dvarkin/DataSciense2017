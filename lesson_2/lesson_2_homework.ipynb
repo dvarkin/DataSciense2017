{
 "cells": [
  {
   "cell_type": "code",
   "execution_count": 75,
   "metadata": {
    "collapsed": false
   },
   "outputs": [],
   "source": [
    "import feedparser\n",
    "from collections import defaultdict\n",
    "import hashlib\n",
    "import sched\n",
    "import time\n",
    "from pandas import DataFrame\n",
    "import datetime\n",
    "\n",
    "# setup scheduler\n",
    "s = sched.scheduler(time.time, time.sleep)\n",
    "\n",
    "data = DataFrame()\n",
    "\n",
    "def scrap():\n",
    "    ts = int(time.time())\n",
    "    dt = datetime.datetime.now()\n",
    "    \n",
    "    data_temp = []\n",
    "\n",
    "    # main\n",
    "    feed_raw = feedparser.parse('https://fivethirtyeight.com/features/feed/')\n",
    "\n",
    "    feed_entries = feed_raw['entries']\n",
    "\n",
    "    for f in feed_entries:\n",
    "        entry = {'dt': dt, 'ts' : ts, 'title' : f['title'].encode('utf-8') } \n",
    "       \n",
    "        # # zip title to hashkey\n",
    "        # m = hashlib.md5(l.encode('utf-8')).hexdigest()\n",
    "        data_temp.append(entry)\n",
    "        \n",
    "    return DataFrame(data_temp)            "
   ]
  },
  {
   "cell_type": "code",
   "execution_count": 76,
   "metadata": {
    "collapsed": false
   },
   "outputs": [
    {
     "name": "stdout",
     "output_type": "stream",
     "text": [
      "                           dt  \\\n",
      "0  2017-01-23 09:20:22.710499   \n",
      "1  2017-01-23 09:20:22.710499   \n",
      "2  2017-01-23 09:20:22.710499   \n",
      "3  2017-01-23 09:20:22.710499   \n",
      "4  2017-01-23 09:20:22.710499   \n",
      "5  2017-01-23 09:20:22.710499   \n",
      "6  2017-01-23 09:20:22.710499   \n",
      "7  2017-01-23 09:20:22.710499   \n",
      "8  2017-01-23 09:20:22.710499   \n",
      "9  2017-01-23 09:20:22.710499   \n",
      "10 2017-01-23 09:20:22.710499   \n",
      "11 2017-01-23 09:20:22.710499   \n",
      "12 2017-01-23 09:20:22.710499   \n",
      "13 2017-01-23 09:20:22.710499   \n",
      "14 2017-01-23 09:20:22.710499   \n",
      "15 2017-01-23 09:20:22.710499   \n",
      "16 2017-01-23 09:20:22.710499   \n",
      "17 2017-01-23 09:20:22.710499   \n",
      "18 2017-01-23 09:20:22.710499   \n",
      "19 2017-01-23 09:20:22.710499   \n",
      "\n",
      "                                                title          ts  \n",
      "0   Trump’s Executive Order On Obamacare Means Eve...  1485156022  \n",
      "1   How Unconscious Sexism Could Help Explain Trum...  1485156022  \n",
      "2                     How To Win With Carmelo Anthony  1485156022  \n",
      "3   The Weaknesses Of The Four Remaining NFL Playo...  1485156022  \n",
      "4                        Women Still Don’t Like Trump  1485156022  \n",
      "5   NFL Conference Championship Previews: Are Matt...  1485156022  \n",
      "6   Who’s Likely To Win The Five Big European Socc...  1485156022  \n",
      "7              Can You Time The Stoplight Just Right?  1485156022  \n",
      "8        Significant Digits For Friday, Jan. 20, 2017  1485156022  \n",
      "9          Everyone Is Biased And There Is No Reality  1485156022  \n",
      "10  Obama Granted Clemency Unlike Any Other Presid...  1485156022  \n",
      "11  Barack Obama Won The White House, But Democrat...  1485156022  \n",
      "12  Aaron Rodgers Can’t Be Stopped By A Pass Rush ...  1485156022  \n",
      "13               How Our Club Soccer Projections Work  1485156022  \n",
      "14  The Long, Storied History Of Inauguration Day ...  1485156022  \n",
      "15                  The Machines Are Coming For Poker  1485156022  \n",
      "16  What We Learned (And Didn’t) About Scott Pruit...  1485156022  \n",
      "17  Novak Djokovic Is Falling Behind In His Quest ...  1485156022  \n",
      "18  Sabermetrics Helped Put Tim Raines In The Hall...  1485156022  \n",
      "19     Significant Digits For Thursday, Jan. 19, 2017  1485156022  \n"
     ]
    }
   ],
   "source": [
    "res = scrap()\n",
    "data = res.append(data, ignore_index=True)\n",
    "print data\n",
    "data.to_csv(path_or_buf=\"news.csv\")\n"
   ]
  },
  {
   "cell_type": "code",
   "execution_count": null,
   "metadata": {
    "collapsed": true
   },
   "outputs": [],
   "source": []
  },
  {
   "cell_type": "code",
   "execution_count": null,
   "metadata": {
    "collapsed": true
   },
   "outputs": [],
   "source": []
  },
  {
   "cell_type": "code",
   "execution_count": null,
   "metadata": {
    "collapsed": true
   },
   "outputs": [],
   "source": []
  },
  {
   "cell_type": "code",
   "execution_count": null,
   "metadata": {
    "collapsed": true
   },
   "outputs": [],
   "source": []
  }
 ],
 "metadata": {
  "anaconda-cloud": {},
  "kernelspec": {
   "display_name": "Python [default]",
   "language": "python",
   "name": "python2"
  },
  "language_info": {
   "codemirror_mode": {
    "name": "ipython",
    "version": 2
   },
   "file_extension": ".py",
   "mimetype": "text/x-python",
   "name": "python",
   "nbconvert_exporter": "python",
   "pygments_lexer": "ipython2",
   "version": "2.7.12"
  }
 },
 "nbformat": 4,
 "nbformat_minor": 1
}
