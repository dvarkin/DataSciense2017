{
 "cells": [
  {
   "cell_type": "code",
   "execution_count": 135,
   "metadata": {
    "collapsed": false
   },
   "outputs": [],
   "source": [
    "import feedparser\n",
    "from collections import defaultdict\n",
    "import hashlib\n",
    "from threading import Timer\n",
    "import time\n",
    "from pandas import DataFrame\n",
    "import datetime\n",
    "import pandas as pd\n",
    "import os.path\n",
    "\n",
    "dump_file = \"news.csv\"\n",
    "# setup scheduler\n",
    "s = sched.scheduler(time.time, time.sleep)\n",
    "\n",
    "def open_dump(path):\n",
    "    if os.path.isfile(path):\n",
    "        return pd.read_csv(path)\n",
    "\n",
    "def scrap(hashes):\n",
    "    ts = int(time.time())\n",
    "    dt = datetime.datetime.now()    \n",
    "    data_temp = []\n",
    "    feed_raw = feedparser.parse('https://fivethirtyeight.com/features/feed/')\n",
    "    feed_entries = feed_raw['entries']\n",
    "\n",
    "    for f in feed_entries:\n",
    "        title = f['title'].encode('utf-8')\n",
    "        hashed_title = hashlib.md5(title).hexdigest()\n",
    "\n",
    "        if not hashed_title in hashes:\n",
    "            entry = {'dt': dt, 'ts' : ts, 'title' :  title, 'hash': hashed_title} \n",
    "            data_temp.append(entry)\n",
    "\n",
    "    df = DataFrame.from_records(data_temp, columns = ['dt', 'ts', 'title', 'hash']) \n",
    "    #df.columns\n",
    "    return df\n",
    "\n",
    "def run_dump():\n",
    "    data = open_dump(dump_file)\n",
    "    if data is None or data.empty:\n",
    "        print \"No CSV dump\"\n",
    "        # first start without csv\n",
    "        res = scrap([])\n",
    "        res.to_csv(path_or_buf=dump_file, columns = ['dt', 'ts', 'title', 'hash'])\n",
    "    else:\n",
    "        hashes = data['hash'].tolist()\n",
    "        res = scrap(hashes)\n",
    "        data = data.append(res, ignore_index=True)\n",
    "        data.to_csv(path_or_buf=dump_file, columns = ['dt', 'ts', 'title', 'hash'])\n",
    "    Timer(10, run_dump).start()\n",
    "\n",
    "def run():\n",
    "    run_dump()        \n",
    "    "
   ]
  },
  {
   "cell_type": "code",
   "execution_count": 134,
   "metadata": {
    "collapsed": false
   },
   "outputs": [],
   "source": [
    "run_dump()"
   ]
  },
  {
   "cell_type": "code",
   "execution_count": null,
   "metadata": {
    "collapsed": true
   },
   "outputs": [],
   "source": [
    "def read_dump():\n",
    "    return op"
   ]
  }
 ],
 "metadata": {
  "anaconda-cloud": {},
  "kernelspec": {
   "display_name": "Python [default]",
   "language": "python",
   "name": "python2"
  },
  "language_info": {
   "codemirror_mode": {
    "name": "ipython",
    "version": 2
   },
   "file_extension": ".py",
   "mimetype": "text/x-python",
   "name": "python",
   "nbconvert_exporter": "python",
   "pygments_lexer": "ipython2",
   "version": "2.7.12"
  }
 },
 "nbformat": 4,
 "nbformat_minor": 1
}
