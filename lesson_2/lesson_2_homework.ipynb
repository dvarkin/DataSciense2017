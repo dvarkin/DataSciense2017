{
 "cells": [
  {
   "cell_type": "code",
   "execution_count": 1,
   "metadata": {
    "collapsed": true
   },
   "outputs": [],
   "source": [
    "import feedparser\n",
    "import hashlib\n",
    "from threading import Timer\n",
    "import time\n",
    "from pandas import DataFrame\n",
    "import datetime\n",
    "import pandas as pd\n",
    "import os.path\n",
    "import csv"
   ]
  },
  {
   "cell_type": "code",
   "execution_count": 2,
   "metadata": {
    "collapsed": true
   },
   "outputs": [],
   "source": [
    "def write_dump(path, data):\n",
    "    keys = data[0].keys()\n",
    "    with open(path, 'wb') as output_file:\n",
    "        dict_writer = csv.DictWriter(output_file, keys)\n",
    "        dict_writer.writeheader()\n",
    "        dict_writer.writerows(data)"
   ]
  },
  {
   "cell_type": "code",
   "execution_count": 3,
   "metadata": {
    "collapsed": false
   },
   "outputs": [],
   "source": [
    "def open_dump(path):\n",
    "    if os.path.isfile(path):\n",
    "        res = []\n",
    "        with open(path) as csvfile:\n",
    "            reader = csv.DictReader(csvfile)\n",
    "            for r in reader:\n",
    "                res.append(r)\n",
    "            return res    "
   ]
  },
  {
   "cell_type": "code",
   "execution_count": 4,
   "metadata": {
    "collapsed": false
   },
   "outputs": [],
   "source": [
    "dump_file = \"news.csv\"\n",
    "set_columns = ['dt', 'ts', 'title', 'hash']\n",
    "\n",
    "def scrap(hashes):\n",
    "    ts = int(time.time())\n",
    "    dt =  pd.to_datetime(datetime.datetime.now())\n",
    "    data_temp = []\n",
    "    feed_raw = feedparser.parse('https://fivethirtyeight.com/features/feed/')\n",
    "    feed_entries = feed_raw['entries']\n",
    "\n",
    "    for f in feed_entries:\n",
    "        title = f['title'].encode('utf-8')\n",
    "        hashed_title = hashlib.md5(title).hexdigest()\n",
    "\n",
    "        if not hashed_title in hashes:\n",
    "            dt = dt + datetime.timedelta(minutes=30) ## just for test !!!!\n",
    "            entry = {'dt': dt, 'ts' : ts, 'title' :  title, 'hash': hashed_title} \n",
    "            data_temp.append(entry)\n",
    "\n",
    "    #df = DataFrame.from_records(data_temp, columns = set_columns) \n",
    "    return data_temp\n",
    "\n",
    "def run_dump():\n",
    "    data = open_dump(dump_file)\n",
    "    if data is None or data == []:\n",
    "        print \"No CSV dump\"\n",
    "        # first start without csv\n",
    "        res = scrap([])\n",
    "        print res\n",
    "        write_dump(dump_file, res)\n",
    "        #res.to_csv(path_or_buf=dump_file, columns = set_columns)\n",
    "    else:\n",
    "        hashes = [e['hash'] for e in data]\n",
    "        res = scrap(hashes)\n",
    "        data = data + res\n",
    "        write_dump(dump_file, data)\n",
    "        #data.to_csv(path_or_buf=dump_file, columns = set_columns)\n",
    "    Timer(10, run_dump).start()\n",
    " "
   ]
  },
  {
   "cell_type": "code",
   "execution_count": 5,
   "metadata": {
    "collapsed": false
   },
   "outputs": [],
   "source": [
    "run_dump()      "
   ]
  },
  {
   "cell_type": "code",
   "execution_count": 6,
   "metadata": {
    "collapsed": false
   },
   "outputs": [],
   "source": [
    "def read_dump(path):\n",
    "    return pd.read_csv(path, index_col=0,parse_dates=[0])"
   ]
  },
  {
   "cell_type": "code",
   "execution_count": 7,
   "metadata": {
    "collapsed": false
   },
   "outputs": [],
   "source": [
    "def freq():\n",
    "    df = read_dump(dump_file)\n",
    "    #print pd.to_datetime(data['dt'], format='%Y-%m-%d %H:%M:%S.%f')\n",
    "    group = data.groupby(pd.TimeGrouper(freq='1H'))\n",
    "\n",
    "    group_counts = group.agg({'title':'count'})\n",
    "\n",
    "    delta = group_counts.index.max() - group_counts.index.min()\n",
    "    total = float(group_counts['title'].sum())\n",
    "    total_hours =  delta.seconds * 60 * 60 \n",
    "    frequency = total / total_hours\n",
    "    return frequency\n",
    "\n"
   ]
  },
  {
   "cell_type": "code",
   "execution_count": 390,
   "metadata": {
    "collapsed": false
   },
   "outputs": [
    {
     "name": "stdout",
     "output_type": "stream",
     "text": [
      "news pear hour:  1.7146776406e-07\n"
     ]
    }
   ],
   "source": [
    "print \"news pear hour: \", freq()"
   ]
  }
 ],
 "metadata": {
  "anaconda-cloud": {},
  "kernelspec": {
   "display_name": "Python [default]",
   "language": "python",
   "name": "python2"
  },
  "language_info": {
   "codemirror_mode": {
    "name": "ipython",
    "version": 2
   },
   "file_extension": ".py",
   "mimetype": "text/x-python",
   "name": "python",
   "nbconvert_exporter": "python",
   "pygments_lexer": "ipython2",
   "version": "2.7.12"
  }
 },
 "nbformat": 4,
 "nbformat_minor": 1
}
